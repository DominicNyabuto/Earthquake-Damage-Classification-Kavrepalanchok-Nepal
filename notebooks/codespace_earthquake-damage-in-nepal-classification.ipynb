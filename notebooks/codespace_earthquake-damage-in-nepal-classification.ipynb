# Predict using Tuned Logistic Regression

log_reg_pred2 = best_logreg.predict(X_test_scaled)

# Evaluate Accuracy 

tuned_lr_accuracy = accuracy_score(y_test2, log_reg_pred2)
tuned_lr_precision = precision_score(y_test2, log_reg_pred2)
tuned_lr_recall = recall_score(y_test2, log_reg_pred2)
tuned_lr_f1 = f1_score(y_test2, log_reg_pred2)

print(f"Tuned Lr Accuracy: {tuned_lr_accuracy:.4f}")
print(f"Tuned Lr Precision: {tuned_lr_precision:.4f}")
print(f"Tuned Lr Recall: {tuned_lr_recall:.4f}")
print(f"Tuned Lr F1-score: {tuned_lr_f1:.4f}")
